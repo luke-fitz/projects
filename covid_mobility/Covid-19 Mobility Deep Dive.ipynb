{
 "cells": [
  {
   "cell_type": "markdown",
   "metadata": {},
   "source": [
    "# Covid-19 Mobility Deep Dive\n",
    "\n",
    "- **Author:** Luke Fitzpatrick\n",
    "- **Date:** 07/05/2021\n",
    "- **Purpose:** Evaluate 2 hypotheses to explain the variation in stay-at-home behavior across geographies during the Covid-19 pandemic"
   ]
  },
  {
   "cell_type": "markdown",
   "metadata": {},
   "source": [
    "## 1. Setup"
   ]
  },
  {
   "cell_type": "code",
   "execution_count": 1,
   "metadata": {},
   "outputs": [
    {
     "name": "stderr",
     "output_type": "stream",
     "text": [
      "C:\\Users\\user\\Anaconda3\\lib\\site-packages\\statsmodels\\tools\\_testing.py:19: FutureWarning: pandas.util.testing is deprecated. Use the functions in the public API at pandas.testing instead.\n",
      "  import pandas.util.testing as tm\n"
     ]
    }
   ],
   "source": [
    "import pandas as pd\n",
    "import numpy as np\n",
    "import matplotlib.pyplot as plt\n",
    "import seaborn as sns\n",
    "import datetime as dt\n",
    "%matplotlib inline"
   ]
  },
  {
   "cell_type": "code",
   "execution_count": 2,
   "metadata": {},
   "outputs": [],
   "source": [
    "def sanitize_columns(df):\n",
    "    \"\"\"Sanitizes column names of dataframe\n",
    "    \"\"\"\n",
    "    df.columns = [c.replace(' ','_').lower() for c in df.columns]\n",
    "    return df\n",
    "\n",
    "\n",
    "def import_trips():\n",
    "    \"\"\"Imports and cleans trip data\n",
    "    \"\"\"\n",
    "    \n",
    "    # Import data\n",
    "    # Source: https://data.bts.gov/Research-and-Statistics/Trips-by-Distance/w96p-f2qv/data\n",
    "    trips_raw = pd.read_csv('data/Trips_by_Distance.csv')\n",
    "    \n",
    "    # Restrict to county-level records\n",
    "    trips = trips_raw.loc[trips_raw['Level'] == 'County', ['Date', 'State Postal Code', 'County FIPS', 'County Name', 'Population Staying at Home', 'Population Not Staying at Home']]\n",
    "    \n",
    "    # Format columns\n",
    "    trips['Date'] = pd.to_datetime(trips['Date'], format='%Y/%m/%d')\n",
    "    trips['County FIPS'] = trips['County FIPS'].astype(int)\n",
    "    trips.loc[:, ['Population Staying at Home', 'Population Not Staying at Home']] = trips.loc[:, ['Population Staying at Home', 'Population Not Staying at Home']].fillna(0)\n",
    "    \n",
    "    # Create total population field\n",
    "    trips['population_total'] = trips['Population Staying at Home'] + trips['Population Not Staying at Home']\n",
    "    trips = trips.loc[trips['population_total'] > 0]\n",
    "    \n",
    "    # Rename columns\n",
    "    trips.rename(columns={'State Postal Code': 'state'}, inplace=True)\n",
    "    trips = sanitize_columns(trips)\n",
    "    \n",
    "    assert(len(trips[['date', 'county_fips']].drop_duplicates()) == len(trips))\n",
    "    print(f'Imported trip data ({len(trips)} records).')\n",
    "    \n",
    "    return trips\n",
    "\n",
    "def import_cases():\n",
    "    \"\"\"Imports and cleans COVID-19 case data\n",
    "    \"\"\"\n",
    "    \n",
    "    # Import data\n",
    "    cases_raw = pd.read_csv('https://raw.githubusercontent.com/nytimes/covid-19-data/master/rolling-averages/us-counties.csv')\n",
    "    \n",
    "    # Remove records with negative case counts (data errors)\n",
    "    cases_tmp = cases_raw.loc[cases_raw['cases'] >= 0, ['date', 'geoid', 'county', 'state', 'cases']]\n",
    "    \n",
    "    # Format olumns\n",
    "    cases_tmp['date'] = pd.to_datetime(cases_tmp['date'], format='%Y-%m-%d')\n",
    "    cases_tmp['county_fips'] = cases_tmp['geoid'].str.split('-').str[1].astype(int)\n",
    "    \n",
    "    # Create rolling count variable\n",
    "    counts = cases_tmp.groupby(['county_fips', 'date'])[['cases']].sum()\n",
    "    rolling_counts = counts.groupby(['county_fips', 'date'])['cases'].rolling(14, min_periods=1).sum()\n",
    "    rolling_counts.name = 'cases_14d'\n",
    "    cases = pd.merge(counts, rolling_counts, left_index=True, right_index=True)\n",
    "    \n",
    "    # Rename columns\n",
    "    cases = sanitize_columns(cases)\n",
    "    \n",
    "    print(f'Imported COVID-19 case data ({len(cases)} records).')\n",
    "    \n",
    "    return cases\n",
    "\n",
    "def import_rural_urban():\n",
    "    \"\"\"Imports and cleans county rural/urban indicator data\n",
    "    \"\"\"\n",
    "    \n",
    "    # Import data\n",
    "    # Source: https://www.ers.usda.gov/webdocs/DataFiles/53251/ruralurbancodes2013.xls?v=8117.6\n",
    "    rural_urban_raw = pd.read_excel('data/ruralurbancodes2013.xls')\n",
    "\n",
    "    # Create aggregated description fields\n",
    "    rural_urban = rural_urban_raw.copy()\n",
    "    rural_urban['county_type2'] = rural_urban['Description'].str.split(' - ').str[0]\n",
    "    rural_urban['county_type3'] = np.where(rural_urban['Description'].str.startswith('Metro - Counties in metro areas of 1 million population or more'),\n",
    "                                      'Metro (Large 1mil+)',\n",
    "                                      np.where(rural_urban['Description'].str.startswith('Metro'),\n",
    "                                              'Metro (Small <1mil)', 'Nonmetro'))\n",
    "    \n",
    "    # Rename columns\n",
    "    rural_urban.rename(columns={'FIPS': 'county_fips', \n",
    "                                'Description': 'county_desc'}, inplace=True)\n",
    "    rural_urban = sanitize_columns(rural_urban)\n",
    "    \n",
    "    assert(rural_urban['county_fips'].nunique() == len(rural_urban))\n",
    "    print(f'Imported rural/urban indicator data ({len(rural_urban)} records).')\n",
    "    \n",
    "    return rural_urban\n",
    "\n",
    "def import_income():\n",
    "    \"\"\"Imports and cleans county income data\n",
    "    \"\"\"\n",
    "    \n",
    "    # Import data\n",
    "    income_raw = pd.read_excel('https://www2.census.gov/programs-surveys/saipe/datasets/2019/2019-state-and-county/est19all.xls', skiprows=range(0,3))\n",
    "    \n",
    "    # Create county FIPS variable\n",
    "    income_raw['county_fips'] = income_raw['State FIPS Code'] * 1000 + income_raw['County FIPS Code']\n",
    "    income = income_raw.loc[:, ['county_fips', 'Name', 'Postal Code', 'Median Household Income']]\n",
    "    \n",
    "    # Correct errors\n",
    "    income.loc[income['county_fips'] == 15005, 'Median Household Income'] = 69375\n",
    "    income['Median Household Income'] = income['Median Household Income'].astype(float)\n",
    "    \n",
    "    # Rename columns\n",
    "    income.rename(columns={'Postal Code': 'state', \n",
    "                           'Name': 'county_name'}, inplace=True)\n",
    "    income = sanitize_columns(income)\n",
    "    \n",
    "    assert(income['county_fips'].nunique() == len(income))\n",
    "    print(f'Imported county income data ({len(income)} records).')\n",
    "    \n",
    "    return income\n",
    "\n",
    "def weighted_qcut(values, weights, q, **kwargs):\n",
    "    'Return weighted quantile cuts from a given series, values.'\n",
    "    if type(q) == int:\n",
    "        quantiles = np.linspace(0, 1, q + 1)\n",
    "    else:\n",
    "        quantiles = q\n",
    "    order = weights.iloc[values.argsort()].cumsum()\n",
    "    bins = pd.cut(order / order.iloc[-1], quantiles, **kwargs)\n",
    "    return bins.sort_index()\n",
    "\n",
    "def attach_income_quantiles(df, pop_df, n_quantiles):\n",
    "    \"\"\"Attaches income quantiles to df, with population weights based on pop_df\n",
    "    \"\"\"\n",
    "    \n",
    "    # Attach population data\n",
    "    df.drop(columns=['population_2010'], inplace=True, errors='ignore')\n",
    "    df = df.merge(pop_df[['county_fips', 'population_2010']], on='county_fips')\n",
    "    \n",
    "    # Format columns\n",
    "    df['population_2010'] = df['population_2010'].astype(int)\n",
    "    \n",
    "    # Create quantile columns\n",
    "    df['income_quantile_count'] = pd.qcut(df['median_household_income'], n_quantiles, labels=False) + 1\n",
    "    df['income_quantile_pop'] = weighted_qcut(df['median_household_income'], df['population_2010'], n_quantiles, labels=False) + 1\n",
    "    \n",
    "    return df\n",
    "\n",
    "def weekly_summary(df, pop_vars):\n",
    "    \"\"\"Resamples dataframe at a weekly level\n",
    "    \"\"\"\n",
    "\n",
    "    df_w = trips.groupby('county_fips').resample('W-Sun', on='date').mean()\n",
    "    df_w = df_w[pop_vars].reset_index()\n",
    "    \n",
    "    # Add week number\n",
    "    df_w['week'] = df_w['date'].dt.isocalendar().week\n",
    "    df_w['week52'] = np.minimum(df_w['week'], 52)\n",
    "    \n",
    "    return df_w"
   ]
  },
  {
   "cell_type": "markdown",
   "metadata": {},
   "source": [
    "## 2. Data import and transformations\n",
    "Exploratory data analysis in separate notebook, but the results inform the cleaning steps here"
   ]
  },
  {
   "cell_type": "code",
   "execution_count": 3,
   "metadata": {},
   "outputs": [
    {
     "name": "stderr",
     "output_type": "stream",
     "text": [
      "C:\\Users\\user\\Anaconda3\\lib\\site-packages\\IPython\\core\\interactiveshell.py:3249: DtypeWarning: Columns (5) have mixed types.Specify dtype option on import or set low_memory=False.\n",
      "  if (await self.run_code(code, result,  async_=asy)):\n"
     ]
    },
    {
     "name": "stdout",
     "output_type": "stream",
     "text": [
      "Imported trip data (2802325 records).\n"
     ]
    }
   ],
   "source": [
    "trips = import_trips()"
   ]
  },
  {
   "cell_type": "code",
   "execution_count": 4,
   "metadata": {},
   "outputs": [
    {
     "name": "stdout",
     "output_type": "stream",
     "text": [
      "Imported COVID-19 case data (1462310 records).\n"
     ]
    }
   ],
   "source": [
    "cases = import_cases()"
   ]
  },
  {
   "cell_type": "code",
   "execution_count": 5,
   "metadata": {
    "scrolled": false
   },
   "outputs": [
    {
     "name": "stdout",
     "output_type": "stream",
     "text": [
      "Imported rural/urban indicator data (3234 records).\n"
     ]
    }
   ],
   "source": [
    "rural_urban = import_rural_urban()"
   ]
  },
  {
   "cell_type": "code",
   "execution_count": 6,
   "metadata": {},
   "outputs": [
    {
     "name": "stdout",
     "output_type": "stream",
     "text": [
      "Imported county income data (3194 records).\n"
     ]
    }
   ],
   "source": [
    "income = import_income()\n",
    "income = attach_income_quantiles(income, rural_urban.loc[:, ['county_fips', 'population_2010']], 5)"
   ]
  },
  {
   "cell_type": "code",
   "execution_count": 7,
   "metadata": {},
   "outputs": [],
   "source": [
    "# Define population variables\n",
    "pop_vars = ['population_staying_at_home',\n",
    "               'population_not_staying_at_home',\n",
    "               'population_total']\n",
    "\n",
    "# Weekly trip summary\n",
    "trips_w = weekly_summary(trips, pop_vars)\n",
    "\n",
    "# Attach county-level fields\n",
    "trips_w.drop(columns=['county_desc', 'county_type2', 'county_type3', 'median_household_income', 'income_quantile_count', 'income_quantile_pop'], inplace=False, errors='ignore')\n",
    "trips_w = trips_w.merge(rural_urban[['county_fips', 'county_desc', 'county_type2', 'county_type3']], on='county_fips', how='left')\\\n",
    "                .merge(income[['county_fips', 'median_household_income', 'income_quantile_count', 'income_quantile_pop']], on='county_fips', how='left')\n",
    "\n",
    "# Impute null values\n",
    "trips_w[['county_desc', 'county_type2', 'county_type3']] = trips_w[['county_desc', 'county_type2', 'county_type3']].fillna('Unknown')\n"
   ]
  },
  {
   "cell_type": "markdown",
   "metadata": {},
   "source": [
    "## 3. Data summaries"
   ]
  },
  {
   "cell_type": "code",
   "execution_count": 8,
   "metadata": {},
   "outputs": [
    {
     "data": {
      "text/plain": [
       "<matplotlib.axes._subplots.AxesSubplot at 0x1cb887751c8>"
      ]
     },
     "execution_count": 8,
     "metadata": {},
     "output_type": "execute_result"
    },
    {
     "data": {
      "image/png": "[encoded data removed]",
      "text/plain": [
       "<Figure size 432x288 with 1 Axes>"
      ]
     },
     "metadata": {
      "needs_background": "light"
     },
     "output_type": "display_data"
    }
   ],
   "source": [
    "# Stay-at-home rates over time\n",
    "s = trips_w.groupby('date')[['population_total', 'population_staying_at_home']].sum()\n",
    "s['stay_home_rate'] = s['population_staying_at_home'] / s['population_total']\n",
    "s['stay_home_rate'].plot()"
   ]
  },
  {
   "cell_type": "code",
   "execution_count": 9,
   "metadata": {},
   "outputs": [
    {
     "data": {
      "text/plain": [
       "<matplotlib.axes._subplots.AxesSubplot at 0x1cb9f066f88>"
      ]
     },
     "execution_count": 9,
     "metadata": {},
     "output_type": "execute_result"
    },
    {
     "data": {
      "image/png": "[encoded data removed]",
      "text/plain": [
       "<Figure size 432x288 with 1 Axes>"
      ]
     },
     "metadata": {
      "needs_background": "light"
     },
     "output_type": "display_data"
    }
   ],
   "source": [
    "# Total population over time\n",
    "s['population_total'].plot()"
   ]
  },
  {
   "cell_type": "code",
   "execution_count": 10,
   "metadata": {},
   "outputs": [
    {
     "data": {
      "text/plain": [
       "<matplotlib.axes._subplots.AxesSubplot at 0x1cb9c60d648>"
      ]
     },
     "execution_count": 10,
     "metadata": {},
     "output_type": "execute_result"
    },
    {
     "data": {
      "image/png": "[encoded data removed]",
      "text/plain": [
       "<Figure size 432x288 with 1 Axes>"
      ]
     },
     "metadata": {
      "needs_background": "light"
     },
     "output_type": "display_data"
    }
   ],
   "source": [
    "# Stay-at-home rate distribution by county/week\n",
    "trips_w['stay_home_rate'] = trips_w['population_staying_at_home'] / trips_w['population_total']\n",
    "trips_w['stay_home_rate'].hist(bins=50)"
   ]
  },
  {
   "cell_type": "code",
   "execution_count": 11,
   "metadata": {},
   "outputs": [
    {
     "data": {
      "text/plain": [
       "<matplotlib.axes._subplots.AxesSubplot at 0x1cbb2439548>"
      ]
     },
     "execution_count": 11,
     "metadata": {},
     "output_type": "execute_result"
    },
    {
     "data": {
      "image/png": "[encoded data removed]",
      "text/plain": [
       "<Figure size 432x288 with 1 Axes>"
      ]
     },
     "metadata": {
      "needs_background": "light"
     },
     "output_type": "display_data"
    }
   ],
   "source": [
    "# Median household income distribution by county\n",
    "income['median_household_income'].hist(bins=50)"
   ]
  },
  {
   "cell_type": "code",
   "execution_count": 12,
   "metadata": {},
   "outputs": [
    {
     "data": {
      "text/html": [
       "<div>\n",
       "<style scoped>\n",
       "    .dataframe tbody tr th:only-of-type {\n",
       "        vertical-align: middle;\n",
       "    }\n",
       "\n",
       "    .dataframe tbody tr th {\n",
       "        vertical-align: top;\n",
       "    }\n",
       "\n",
       "    .dataframe thead th {\n",
       "        text-align: right;\n",
       "    }\n",
       "</style>\n",
       "<table border=\"1\" class=\"dataframe\">\n",
       "  <thead>\n",
       "    <tr style=\"text-align: right;\">\n",
       "      <th></th>\n",
       "      <th>min</th>\n",
       "      <th>mean</th>\n",
       "      <th>max</th>\n",
       "    </tr>\n",
       "    <tr>\n",
       "      <th>income_quantile_pop</th>\n",
       "      <th></th>\n",
       "      <th></th>\n",
       "      <th></th>\n",
       "    </tr>\n",
       "  </thead>\n",
       "  <tbody>\n",
       "    <tr>\n",
       "      <th>1</th>\n",
       "      <td>24700</td>\n",
       "      <td>45000</td>\n",
       "      <td>53000</td>\n",
       "    </tr>\n",
       "    <tr>\n",
       "      <th>2</th>\n",
       "      <td>53000</td>\n",
       "      <td>56900</td>\n",
       "      <td>61400</td>\n",
       "    </tr>\n",
       "    <tr>\n",
       "      <th>3</th>\n",
       "      <td>61400</td>\n",
       "      <td>64800</td>\n",
       "      <td>69400</td>\n",
       "    </tr>\n",
       "    <tr>\n",
       "      <th>4</th>\n",
       "      <td>69400</td>\n",
       "      <td>74400</td>\n",
       "      <td>82300</td>\n",
       "    </tr>\n",
       "    <tr>\n",
       "      <th>5</th>\n",
       "      <td>82400</td>\n",
       "      <td>95600</td>\n",
       "      <td>151800</td>\n",
       "    </tr>\n",
       "  </tbody>\n",
       "</table>\n",
       "</div>"
      ],
      "text/plain": [
       "                       min   mean     max\n",
       "income_quantile_pop                      \n",
       "1                    24700  45000   53000\n",
       "2                    53000  56900   61400\n",
       "3                    61400  64800   69400\n",
       "4                    69400  74400   82300\n",
       "5                    82400  95600  151800"
      ]
     },
     "execution_count": 12,
     "metadata": {},
     "output_type": "execute_result"
    }
   ],
   "source": [
    "# Income quantiles\n",
    "income.groupby('income_quantile_pop')['median_household_income'].agg(['min', 'mean', 'max']).round(-2).astype(int)"
   ]
  },
  {
   "cell_type": "code",
   "execution_count": 13,
   "metadata": {},
   "outputs": [
    {
     "data": {
      "text/plain": [
       "income_quantile_pop\n",
       "1    61667641\n",
       "2    61599200\n",
       "3    58833565\n",
       "4    64728048\n",
       "5    61889817\n",
       "Name: population_2010, dtype: int32"
      ]
     },
     "execution_count": 13,
     "metadata": {},
     "output_type": "execute_result"
    }
   ],
   "source": [
    "# Population by income quantiles\n",
    "income.groupby('income_quantile_pop')['population_2010'].sum()"
   ]
  },
  {
   "cell_type": "code",
   "execution_count": 14,
   "metadata": {},
   "outputs": [
    {
     "data": {
      "text/html": [
       "<div>\n",
       "<style scoped>\n",
       "    .dataframe tbody tr th:only-of-type {\n",
       "        vertical-align: middle;\n",
       "    }\n",
       "\n",
       "    .dataframe tbody tr th {\n",
       "        vertical-align: top;\n",
       "    }\n",
       "\n",
       "    .dataframe thead th {\n",
       "        text-align: right;\n",
       "    }\n",
       "</style>\n",
       "<table border=\"1\" class=\"dataframe\">\n",
       "  <thead>\n",
       "    <tr style=\"text-align: right;\">\n",
       "      <th></th>\n",
       "      <th></th>\n",
       "      <th></th>\n",
       "      <th>sum</th>\n",
       "      <th>nunique</th>\n",
       "    </tr>\n",
       "    <tr>\n",
       "      <th>county_type3</th>\n",
       "      <th>county_type2</th>\n",
       "      <th>county_desc</th>\n",
       "      <th></th>\n",
       "      <th></th>\n",
       "    </tr>\n",
       "  </thead>\n",
       "  <tbody>\n",
       "    <tr>\n",
       "      <th>Metro (Large 1mil+)</th>\n",
       "      <th>Metro</th>\n",
       "      <th>Metro - Counties in metro areas of 1 million population or more</th>\n",
       "      <td>170874087</td>\n",
       "      <td>472</td>\n",
       "    </tr>\n",
       "    <tr>\n",
       "      <th rowspan=\"2\" valign=\"top\">Metro (Small &lt;1mil)</th>\n",
       "      <th rowspan=\"2\" valign=\"top\">Metro</th>\n",
       "      <th>Metro - Counties in metro areas of 250,000 to 1 million population</th>\n",
       "      <td>66299877</td>\n",
       "      <td>394</td>\n",
       "    </tr>\n",
       "    <tr>\n",
       "      <th>Metro - Counties in metro areas of fewer than 250,000 population</th>\n",
       "      <td>28845692</td>\n",
       "      <td>367</td>\n",
       "    </tr>\n",
       "    <tr>\n",
       "      <th rowspan=\"7\" valign=\"top\">Nonmetro</th>\n",
       "      <th rowspan=\"6\" valign=\"top\">Nonmetro</th>\n",
       "      <th>Nonmetro - Completely rural or less than 2,500 urban population, adjacent to a metro area</th>\n",
       "      <td>2157448</td>\n",
       "      <td>219</td>\n",
       "    </tr>\n",
       "    <tr>\n",
       "      <th>Nonmetro - Completely rural or less than 2,500 urban population, not adjacent to a metro area</th>\n",
       "      <td>2615681</td>\n",
       "      <td>420</td>\n",
       "    </tr>\n",
       "    <tr>\n",
       "      <th>Nonmetro - Urban population of 2,500 to 19,999, adjacent to a metro area</th>\n",
       "      <td>14837258</td>\n",
       "      <td>594</td>\n",
       "    </tr>\n",
       "    <tr>\n",
       "      <th>Nonmetro - Urban population of 2,500 to 19,999, not adjacent to a metro area</th>\n",
       "      <td>8265281</td>\n",
       "      <td>433</td>\n",
       "    </tr>\n",
       "    <tr>\n",
       "      <th>Nonmetro - Urban population of 20,000 or more, adjacent to a metro area</th>\n",
       "      <td>13633186</td>\n",
       "      <td>217</td>\n",
       "    </tr>\n",
       "    <tr>\n",
       "      <th>Nonmetro - Urban population of 20,000 or more, not adjacent to a metro area</th>\n",
       "      <td>5317982</td>\n",
       "      <td>98</td>\n",
       "    </tr>\n",
       "    <tr>\n",
       "      <th>Not Applicable</th>\n",
       "      <th>Not Applicable</th>\n",
       "      <td>0</td>\n",
       "      <td>1</td>\n",
       "    </tr>\n",
       "  </tbody>\n",
       "</table>\n",
       "</div>"
      ],
      "text/plain": [
       "                                                                                              sum  \\\n",
       "county_type3        county_type2    county_desc                                                     \n",
       "Metro (Large 1mil+) Metro           Metro - Counties in metro areas of 1 million po...  170874087   \n",
       "Metro (Small <1mil) Metro           Metro - Counties in metro areas of 250,000 to 1...   66299877   \n",
       "                                    Metro - Counties in metro areas of fewer than 2...   28845692   \n",
       "Nonmetro            Nonmetro        Nonmetro - Completely rural or less than 2,500 ...    2157448   \n",
       "                                    Nonmetro - Completely rural or less than 2,500 ...    2615681   \n",
       "                                    Nonmetro - Urban population of 2,500 to 19,999,...   14837258   \n",
       "                                    Nonmetro - Urban population of 2,500 to 19,999,...    8265281   \n",
       "                                    Nonmetro - Urban population of 20,000 or more, ...   13633186   \n",
       "                                    Nonmetro - Urban population of 20,000 or more, ...    5317982   \n",
       "                    Not Applicable  Not Applicable                                              0   \n",
       "\n",
       "                                                                                        nunique  \n",
       "county_type3        county_type2    county_desc                                                  \n",
       "Metro (Large 1mil+) Metro           Metro - Counties in metro areas of 1 million po...      472  \n",
       "Metro (Small <1mil) Metro           Metro - Counties in metro areas of 250,000 to 1...      394  \n",
       "                                    Metro - Counties in metro areas of fewer than 2...      367  \n",
       "Nonmetro            Nonmetro        Nonmetro - Completely rural or less than 2,500 ...      219  \n",
       "                                    Nonmetro - Completely rural or less than 2,500 ...      420  \n",
       "                                    Nonmetro - Urban population of 2,500 to 19,999,...      594  \n",
       "                                    Nonmetro - Urban population of 2,500 to 19,999,...      433  \n",
       "                                    Nonmetro - Urban population of 20,000 or more, ...      217  \n",
       "                                    Nonmetro - Urban population of 20,000 or more, ...       98  \n",
       "                    Not Applicable  Not Applicable                                            1  "
      ]
     },
     "execution_count": 14,
     "metadata": {},
     "output_type": "execute_result"
    }
   ],
   "source": [
    "# Urban/rural category\n",
    "rural_urban.groupby(['county_type3', 'county_type2', 'county_desc'])['population_2010'].agg(['sum', 'nunique'])"
   ]
  },
  {
   "cell_type": "code",
   "execution_count": 15,
   "metadata": {},
   "outputs": [
    {
     "data": {
      "text/html": [
       "<div>\n",
       "<style scoped>\n",
       "    .dataframe tbody tr th:only-of-type {\n",
       "        vertical-align: middle;\n",
       "    }\n",
       "\n",
       "    .dataframe tbody tr th {\n",
       "        vertical-align: top;\n",
       "    }\n",
       "\n",
       "    .dataframe thead th {\n",
       "        text-align: right;\n",
       "    }\n",
       "</style>\n",
       "<table border=\"1\" class=\"dataframe\">\n",
       "  <thead>\n",
       "    <tr style=\"text-align: right;\">\n",
       "      <th></th>\n",
       "      <th>population_2010</th>\n",
       "    </tr>\n",
       "    <tr>\n",
       "      <th>county_type3</th>\n",
       "      <th></th>\n",
       "    </tr>\n",
       "  </thead>\n",
       "  <tbody>\n",
       "    <tr>\n",
       "      <th>Metro (Large 1mil+)</th>\n",
       "      <td>0.546191</td>\n",
       "    </tr>\n",
       "    <tr>\n",
       "      <th>Metro (Small &lt;1mil)</th>\n",
       "      <td>0.304129</td>\n",
       "    </tr>\n",
       "    <tr>\n",
       "      <th>Nonmetro</th>\n",
       "      <td>0.149680</td>\n",
       "    </tr>\n",
       "  </tbody>\n",
       "</table>\n",
       "</div>"
      ],
      "text/plain": [
       "                     population_2010\n",
       "county_type3                        \n",
       "Metro (Large 1mil+)         0.546191\n",
       "Metro (Small <1mil)         0.304129\n",
       "Nonmetro                    0.149680"
      ]
     },
     "execution_count": 15,
     "metadata": {},
     "output_type": "execute_result"
    }
   ],
   "source": [
    "# Population by urban/rural category\n",
    "s = rural_urban.groupby('county_type3')[['population_2010']].sum()\n",
    "s.div(s.sum())"
   ]
  },
  {
   "cell_type": "markdown",
   "metadata": {},
   "source": [
    "## 4. Hypothesis testing\n",
    "### Hypothesis 1: Regions with high recent infection rates have higher stay-at-home rates"
   ]
  },
  {
   "cell_type": "code",
   "execution_count": 16,
   "metadata": {},
   "outputs": [
    {
     "data": {
      "text/plain": [
       "<matplotlib.axes._subplots.AxesSubplot at 0x1cbd9084848>"
      ]
     },
     "execution_count": 16,
     "metadata": {},
     "output_type": "execute_result"
    },
    {
     "data": {
      "image/png": "[encoded data removed]",
      "text/plain": [
       "<Figure size 432x288 with 1 Axes>"
      ]
     },
     "metadata": {
      "needs_background": "light"
     },
     "output_type": "display_data"
    }
   ],
   "source": [
    "def stay_home_summary(df, group_vars):\n",
    "    \"\"\"Returns summary of pre/post stay-at-home rates\n",
    "    \"\"\"\n",
    "    summary = df.groupby(group_vars)[['population_total', 'population_staying_at_home', 'population_staying_at_home_pre_scaled']].sum()\n",
    "    summary['stay_home_rate'] = summary['population_staying_at_home'] / summary['population_total']\n",
    "    summary['stay_home_rate_pre'] = summary['population_staying_at_home_pre_scaled'] / summary['population_total']\n",
    "    summary['stay_home_rate_change'] = summary['stay_home_rate'] / summary['stay_home_rate_pre'] - 1\n",
    "    return summary\n",
    "\n",
    "# Merge post-COVID and pre-COVID data sets\n",
    "trips_w_post = trips_w.loc[trips_w['date'] >= dt.datetime(2020, 3, 1, 0, 0, 0)]\n",
    "trips_w_pre = trips_w.loc[trips_w['date'].dt.year == 2019, ['county_fips', 'week52'] + pop_vars]\n",
    "trips_w_pre.rename(columns={c: c + '_pre' for c in pop_vars}, inplace=True)\n",
    "trips_w_comp = pd.merge(trips_w_post, trips_w_pre, on=['county_fips', 'week52'], how='left')\n",
    "\n",
    "# Plot parameters\n",
    "bin_width = 50\n",
    "min_cases = 0\n",
    "max_cases = 1000\n",
    "\n",
    "# Merge trailing 14-day case counts\n",
    "df = trips_w_comp.merge(cases[['cases_14d']], left_on=['county_fips', 'date'], right_index=True)\n",
    "df['cases_14d_per_million'] = df['cases_14d'] / df['population_total'] * 1e6\n",
    "df['cases_14d_per_million_group'] = ((df['cases_14d_per_million'] / bin_width).apply(np.floor) * bin_width).clip(min_cases, max_cases)\n",
    "df['population_staying_at_home_pre_scaled'] = df['population_staying_at_home_pre'] / df['population_total_pre'] * df['population_total']\n",
    "\n",
    "# Summarize by county type\n",
    "summary_type_cases = stay_home_summary(df.loc[df['county_type3'] != 'Unknown'], ['county_type3', 'cases_14d_per_million_group'])\n",
    "\n",
    "# Plot\n",
    "sns.lineplot(data=summary_type_cases.reset_index(),\n",
    "             x='cases_14d_per_million_group', \n",
    "             y='stay_home_rate_change',\n",
    "             hue='county_type3')"
   ]
  },
  {
   "cell_type": "code",
   "execution_count": 17,
   "metadata": {},
   "outputs": [],
   "source": [
    "# CSV for slide\n",
    "summary_type_cases.reset_index().to_csv('summary_type_cases.csv', index=False)"
   ]
  },
  {
   "cell_type": "code",
   "execution_count": 18,
   "metadata": {},
   "outputs": [
    {
     "data": {
      "text/html": [
       "<div>\n",
       "<style scoped>\n",
       "    .dataframe tbody tr th:only-of-type {\n",
       "        vertical-align: middle;\n",
       "    }\n",
       "\n",
       "    .dataframe tbody tr th {\n",
       "        vertical-align: top;\n",
       "    }\n",
       "\n",
       "    .dataframe thead th {\n",
       "        text-align: right;\n",
       "    }\n",
       "</style>\n",
       "<table border=\"1\" class=\"dataframe\">\n",
       "  <thead>\n",
       "    <tr style=\"text-align: right;\">\n",
       "      <th></th>\n",
       "      <th>population_total</th>\n",
       "      <th>population_staying_at_home</th>\n",
       "      <th>population_staying_at_home_pre_scaled</th>\n",
       "      <th>stay_home_rate</th>\n",
       "      <th>stay_home_rate_pre</th>\n",
       "      <th>stay_home_rate_change</th>\n",
       "    </tr>\n",
       "    <tr>\n",
       "      <th>county_type3</th>\n",
       "      <th></th>\n",
       "      <th></th>\n",
       "      <th></th>\n",
       "      <th></th>\n",
       "      <th></th>\n",
       "      <th></th>\n",
       "    </tr>\n",
       "  </thead>\n",
       "  <tbody>\n",
       "    <tr>\n",
       "      <th>Metro (Large 1mil+)</th>\n",
       "      <td>1.171831e+10</td>\n",
       "      <td>2.972006e+09</td>\n",
       "      <td>2.250757e+09</td>\n",
       "      <td>0.253621</td>\n",
       "      <td>0.192072</td>\n",
       "      <td>0.320447</td>\n",
       "    </tr>\n",
       "    <tr>\n",
       "      <th>Metro (Small &lt;1mil)</th>\n",
       "      <td>6.595204e+09</td>\n",
       "      <td>1.541598e+09</td>\n",
       "      <td>1.250434e+09</td>\n",
       "      <td>0.233745</td>\n",
       "      <td>0.189597</td>\n",
       "      <td>0.232851</td>\n",
       "    </tr>\n",
       "    <tr>\n",
       "      <th>Nonmetro</th>\n",
       "      <td>2.942520e+09</td>\n",
       "      <td>6.082847e+08</td>\n",
       "      <td>5.456859e+08</td>\n",
       "      <td>0.206722</td>\n",
       "      <td>0.185448</td>\n",
       "      <td>0.114716</td>\n",
       "    </tr>\n",
       "  </tbody>\n",
       "</table>\n",
       "</div>"
      ],
      "text/plain": [
       "                     population_total  population_staying_at_home  \\\n",
       "county_type3                                                        \n",
       "Metro (Large 1mil+)      1.171831e+10                2.972006e+09   \n",
       "Metro (Small <1mil)      6.595204e+09                1.541598e+09   \n",
       "Nonmetro                 2.942520e+09                6.082847e+08   \n",
       "\n",
       "                     population_staying_at_home_pre_scaled  stay_home_rate  \\\n",
       "county_type3                                                                 \n",
       "Metro (Large 1mil+)                           2.250757e+09        0.253621   \n",
       "Metro (Small <1mil)                           1.250434e+09        0.233745   \n",
       "Nonmetro                                      5.456859e+08        0.206722   \n",
       "\n",
       "                     stay_home_rate_pre  stay_home_rate_change  \n",
       "county_type3                                                    \n",
       "Metro (Large 1mil+)            0.192072               0.320447  \n",
       "Metro (Small <1mil)            0.189597               0.232851  \n",
       "Nonmetro                       0.185448               0.114716  "
      ]
     },
     "execution_count": 18,
     "metadata": {},
     "output_type": "execute_result"
    }
   ],
   "source": [
    "# Overall summary by county type\n",
    "summary_type = stay_home_summary(df.loc[df['county_type3'] != 'Unknown'], 'county_type3')\n",
    "summary_type"
   ]
  },
  {
   "cell_type": "markdown",
   "metadata": {},
   "source": [
    "### Hypothesis 2: Permanent shift toward staying at home in wealthier regions"
   ]
  },
  {
   "cell_type": "code",
   "execution_count": 19,
   "metadata": {},
   "outputs": [
    {
     "data": {
      "text/plain": [
       "<matplotlib.axes._subplots.AxesSubplot at 0x1cbb241aa88>"
      ]
     },
     "execution_count": 19,
     "metadata": {},
     "output_type": "execute_result"
    },
    {
     "data": {
      "image/png": "[encoded data removed]",
      "text/plain": [
       "<Figure size 432x288 with 1 Axes>"
      ]
     },
     "metadata": {
      "needs_background": "light"
     },
     "output_type": "display_data"
    }
   ],
   "source": [
    "# Time-series by income quantile\n",
    "summary_income = trips_w.groupby(['income_quantile_pop', 'date'])[['population_total', 'population_staying_at_home']].sum()\n",
    "summary_income['stay_home_rate'] = summary_income['population_staying_at_home'] / summary_income['population_total']\n",
    "sns.lineplot(data=summary_income.reset_index(),\n",
    "            x='date',\n",
    "            y='stay_home_rate',\n",
    "            hue='income_quantile_pop',\n",
    "            legend='full')"
   ]
  },
  {
   "cell_type": "code",
   "execution_count": 20,
   "metadata": {},
   "outputs": [],
   "source": [
    "# CSV for slide\n",
    "summary_income.reset_index().to_csv('summary_income.csv', index=False)"
   ]
  },
  {
   "cell_type": "markdown",
   "metadata": {},
   "source": [
    "## 5. Data export for Tableau map"
   ]
  },
  {
   "cell_type": "code",
   "execution_count": 21,
   "metadata": {},
   "outputs": [
    {
     "name": "stderr",
     "output_type": "stream",
     "text": [
      "C:\\Users\\user\\Anaconda3\\lib\\site-packages\\ipykernel_launcher.py:2: SettingWithCopyWarning: \n",
      "A value is trying to be set on a copy of a slice from a DataFrame.\n",
      "Try using .loc[row_indexer,col_indexer] = value instead\n",
      "\n",
      "See the caveats in the documentation: https://pandas.pydata.org/pandas-docs/stable/user_guide/indexing.html#returning-a-view-versus-a-copy\n",
      "  \n",
      "C:\\Users\\user\\Anaconda3\\lib\\site-packages\\ipykernel_launcher.py:3: SettingWithCopyWarning: \n",
      "A value is trying to be set on a copy of a slice from a DataFrame.\n",
      "Try using .loc[row_indexer,col_indexer] = value instead\n",
      "\n",
      "See the caveats in the documentation: https://pandas.pydata.org/pandas-docs/stable/user_guide/indexing.html#returning-a-view-versus-a-copy\n",
      "  This is separate from the ipykernel package so we can avoid doing imports until\n"
     ]
    }
   ],
   "source": [
    "cmap = trips.loc[trips['date'] == trips['date'].max()]\n",
    "cmap['county_fips'] = cmap['county_fips'].astype(str).apply(lambda x: x.zfill(5))\n",
    "cmap['stay_home_rate'] = cmap['population_staying_at_home'] / cmap['population_total']\n",
    "cmap.loc[:, ['county_fips', 'stay_home_rate']].to_csv('cmap.csv', index=False)"
   ]
  },
  {
   "cell_type": "code",
   "execution_count": null,
   "metadata": {},
   "outputs": [],
   "source": []
  }
 ],
 "metadata": {
  "kernelspec": {
   "display_name": "Python 3",
   "language": "python",
   "name": "python3"
  },
  "language_info": {
   "codemirror_mode": {
    "name": "ipython",
    "version": 3
   },
   "file_extension": ".py",
   "mimetype": "text/x-python",
   "name": "python",
   "nbconvert_exporter": "python",
   "pygments_lexer": "ipython3",
   "version": "3.7.4"
  }
 },
 "nbformat": 4,
 "nbformat_minor": 2
}
