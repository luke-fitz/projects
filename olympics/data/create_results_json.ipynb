{
 "cells": [
  {
   "cell_type": "code",
   "execution_count": 9,
   "id": "116dd157",
   "metadata": {},
   "outputs": [
    {
     "name": "stdout",
     "output_type": "stream",
     "text": [
      "Collecting openpyxl\n",
      "  Downloading openpyxl-3.1.5-py2.py3-none-any.whl (250 kB)\n",
      "     ------------------------------------ 250.9/250.9 kB 771.4 kB/s eta 0:00:00\n",
      "Collecting et-xmlfile\n",
      "  Downloading et_xmlfile-2.0.0-py3-none-any.whl (18 kB)\n",
      "Installing collected packages: et-xmlfile, openpyxl\n",
      "Successfully installed et-xmlfile-2.0.0 openpyxl-3.1.5\n"
     ]
    },
    {
     "name": "stderr",
     "output_type": "stream",
     "text": [
      "\n",
      "[notice] A new release of pip available: 22.3.1 -> 24.3.1\n",
      "[notice] To update, run: python.exe -m pip install --upgrade pip\n"
     ]
    }
   ],
   "source": [
    "# import sys\n",
    "!{sys.executable} -m pip install openpyxl"
   ]
  },
  {
   "cell_type": "code",
   "execution_count": 15,
   "id": "43e9b12b",
   "metadata": {},
   "outputs": [],
   "source": [
    "import pandas as pd\n",
    "import json"
   ]
  },
  {
   "cell_type": "code",
   "execution_count": 10,
   "id": "be7e0a7f",
   "metadata": {},
   "outputs": [],
   "source": [
    "res_oly = pd.read_excel(\"raw/paris_olympics_results.xlsx\")\n",
    "res_sib = pd.read_excel(\"raw/sibling_olympics_results.xlsx\")\n",
    "events = pd.read_excel(\"raw/olympic_events.xlsx\")"
   ]
  },
  {
   "cell_type": "code",
   "execution_count": 22,
   "id": "df08a389",
   "metadata": {},
   "outputs": [],
   "source": [
    "def combine_results(res_oly, res_sib):\n",
    "    oly_max_lanes = res_oly.groupby(['Event', 'Sport'], as_index=False)['Lane'].max()\n",
    "    res_sib = res_sib.merge(oly_max_lanes, on=['Event', 'Sport'], how='left', suffixes=('', '_max'))\n",
    "    res_sib['Lane'] = res_sib.groupby(['Event', 'Sport']).cumcount() + res_sib['Lane_max'] + 1\n",
    "    res_sib.drop(columns=['Lane_max'], inplace=True)\n",
    "    res_combined = pd.concat([res_oly, res_sib], ignore_index=True).sort_values(by = ['Sport', 'Event', 'Lane'])\n",
    "    res_combined = res_combined.loc[~res_combined['Lane'].isnull()]\n",
    "    res_combined['Lane'] = res_combined['Lane'].astype(int)\n",
    "    return res_combined\n",
    "\n",
    "res = combine_results(res_oly, res_sib)"
   ]
  },
  {
   "cell_type": "code",
   "execution_count": null,
   "id": "7b339d8c",
   "metadata": {},
   "outputs": [],
   "source": [
    "def create_event_json(events_df, results_df, output_file):\n",
    "\n",
    "    \n",
    "    # Prepare a list to hold event data\n",
    "    events_list = []\n",
    "\n",
    "    # Iterate through each event in the events DataFrame\n",
    "    for _, event_row in events_df.iterrows():\n",
    "        event_name = event_row['Event']\n",
    "        \n",
    "        # Extract event details\n",
    "        event_details = {\n",
    "            \"event\": event_name,\n",
    "            \"sport\": event_row['Sport'],\n",
    "            \"distance_m\": event_row['DistanceM'],\n",
    "            \"laps\": event_row['Laps'],\n",
    "            \"results\": []\n",
    "        }\n",
    "        \n",
    "        # Filter results for this event\n",
    "        event_results = results_df[results_df['Event'] == event_name]\n",
    "\n",
    "        # Iterate through each result row and add to event results\n",
    "        for _, result_row in event_results.iterrows():\n",
    "            result_details = {\n",
    "                \"lane\": result_row['Lane'],\n",
    "                \"athlete\": result_row['Athlete'],\n",
    "                \"country\": result_row['Country'],\n",
    "                \"timeSeconds\": result_row['TimeSeconds']\n",
    "            }\n",
    "            event_details['results'].append(result_details)\n",
    "        \n",
    "        # Add the event to the list\n",
    "        events_list.append(event_details)\n",
    "\n",
    "    # Convert to JSON format\n",
    "    output_data = {\"events\": events_list}\n",
    "    \n",
    "    # Write to JSON file\n",
    "    with open(output_file, 'w') as json_file:\n",
    "        json.dump(output_data, json_file, indent=4)\n",
    "\n",
    "create_event_json(events, res, 'events.json')"
   ]
  },
  {
   "cell_type": "code",
   "execution_count": null,
   "id": "78c20e14",
   "metadata": {},
   "outputs": [],
   "source": []
  }
 ],
 "metadata": {
  "kernelspec": {
   "display_name": "Python 3",
   "language": "python",
   "name": "python3"
  },
  "language_info": {
   "codemirror_mode": {
    "name": "ipython",
    "version": 3
   },
   "file_extension": ".py",
   "mimetype": "text/x-python",
   "name": "python",
   "nbconvert_exporter": "python",
   "pygments_lexer": "ipython3",
   "version": "3.11.1"
  }
 },
 "nbformat": 4,
 "nbformat_minor": 5
}
