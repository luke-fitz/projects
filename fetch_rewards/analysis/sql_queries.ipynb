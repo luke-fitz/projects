{
 "cells": [
  {
   "cell_type": "code",
   "execution_count": 1,
   "id": "aacd005e",
   "metadata": {},
   "outputs": [],
   "source": [
    "import duckdb\n",
    "import pandas as pd"
   ]
  },
  {
   "cell_type": "code",
   "execution_count": 2,
   "id": "7d5d171a",
   "metadata": {},
   "outputs": [],
   "source": [
    "# Change as needed\n",
    "BASE_DIR = r'C:\\Users\\lukef\\Documents\\projects\\fetch_rewards'\n",
    "ASAT_DT = '2021-03-01' # Set to the latest month in the receipts data"
   ]
  },
  {
   "cell_type": "code",
   "execution_count": 3,
   "id": "f5a56347",
   "metadata": {},
   "outputs": [],
   "source": [
    "data_dir = BASE_DIR + '/data'\n",
    "raw_data_dir = data_dir + '/raw'\n",
    "cleansed_data_dir = data_dir + '/cleansed'"
   ]
  },
  {
   "cell_type": "code",
   "execution_count": 4,
   "id": "ffee4a60",
   "metadata": {},
   "outputs": [],
   "source": [
    "dim_brands = cleansed_data_dir + '/dim_brands.parquet'\n",
    "dim_users = cleansed_data_dir + '/dim_users.parquet'\n",
    "fact_receipts = cleansed_data_dir + '/fact_receipts.parquet'\n",
    "fact_receipt_items = cleansed_data_dir + '/fact_receipt_items.parquet'"
   ]
  },
  {
   "cell_type": "code",
   "execution_count": 5,
   "id": "615520c0",
   "metadata": {},
   "outputs": [],
   "source": [
    "# Questions 1 and 2\n",
    "def top_brands_by_month(num_months_ago, num_brands = 5):\n",
    "  \"\"\"\n",
    "  Retrieves the top brands by receipt count for a specified number of months ago,\n",
    "  limited to a set number of brands, using DuckDB SQL queries.\n",
    "  \"\"\"\n",
    "  sql_query = f\"\"\"\n",
    "  SELECT\n",
    "    b.brandCode,\n",
    "    b.name AS brandName,\n",
    "    COUNT(*) AS receiptCount\n",
    "  FROM\n",
    "    '{fact_receipt_items}' ri\n",
    "      INNER JOIN\n",
    "        '{fact_receipts}' r\n",
    "        ON ri.receiptId = r.receiptId\n",
    "      INNER JOIN\n",
    "        '{dim_brands}' b\n",
    "        ON ri.brandCode = b.brandCode\n",
    "  WHERE\n",
    "    DATE_TRUNC('MONTH', r.scannedDateTime) = DATE_TRUNC('MONTH', DATE '{ASAT_DT}' - INTERVAL '{num_months_ago} MONTH')\n",
    "  GROUP BY\n",
    "    b.brandCode,\n",
    "    b.name\n",
    "  ORDER BY\n",
    "    receiptCount DESC\n",
    "  LIMIT {num_brands}\n",
    "  \"\"\"\n",
    "\n",
    "  return duckdb.query(sql_query).df()\n",
    "\n"
   ]
  },
  {
   "cell_type": "code",
   "execution_count": 6,
   "id": "418ee087",
   "metadata": {},
   "outputs": [
    {
     "data": {
      "text/html": [
       "<div>\n",
       "<style scoped>\n",
       "    .dataframe tbody tr th:only-of-type {\n",
       "        vertical-align: middle;\n",
       "    }\n",
       "\n",
       "    .dataframe tbody tr th {\n",
       "        vertical-align: top;\n",
       "    }\n",
       "\n",
       "    .dataframe thead th {\n",
       "        text-align: right;\n",
       "    }\n",
       "</style>\n",
       "<table border=\"1\" class=\"dataframe\">\n",
       "  <thead>\n",
       "    <tr style=\"text-align: right;\">\n",
       "      <th></th>\n",
       "      <th>brandCode</th>\n",
       "      <th>brandName</th>\n",
       "      <th>receiptCount</th>\n",
       "    </tr>\n",
       "  </thead>\n",
       "  <tbody>\n",
       "    <tr>\n",
       "      <th>0</th>\n",
       "      <td>VIVA</td>\n",
       "      <td>Viva</td>\n",
       "      <td>1</td>\n",
       "    </tr>\n",
       "  </tbody>\n",
       "</table>\n",
       "</div>"
      ],
      "text/plain": [
       "  brandCode brandName  receiptCount\n",
       "0      VIVA      Viva             1"
      ]
     },
     "execution_count": 6,
     "metadata": {},
     "output_type": "execute_result"
    }
   ],
   "source": [
    "# What are the top 5 brands by receipts scanned for most recent month?\n",
    "top_brands_by_month(1)"
   ]
  },
  {
   "cell_type": "code",
   "execution_count": 7,
   "id": "9c549275",
   "metadata": {},
   "outputs": [
    {
     "data": {
      "text/html": [
       "<div>\n",
       "<style scoped>\n",
       "    .dataframe tbody tr th:only-of-type {\n",
       "        vertical-align: middle;\n",
       "    }\n",
       "\n",
       "    .dataframe tbody tr th {\n",
       "        vertical-align: top;\n",
       "    }\n",
       "\n",
       "    .dataframe thead th {\n",
       "        text-align: right;\n",
       "    }\n",
       "</style>\n",
       "<table border=\"1\" class=\"dataframe\">\n",
       "  <thead>\n",
       "    <tr style=\"text-align: right;\">\n",
       "      <th></th>\n",
       "      <th>brandCode</th>\n",
       "      <th>brandName</th>\n",
       "      <th>receiptCount</th>\n",
       "    </tr>\n",
       "  </thead>\n",
       "  <tbody>\n",
       "    <tr>\n",
       "      <th>0</th>\n",
       "      <td>PEPSI</td>\n",
       "      <td>Pepsi</td>\n",
       "      <td>93</td>\n",
       "    </tr>\n",
       "    <tr>\n",
       "      <th>1</th>\n",
       "      <td>KLEENEX</td>\n",
       "      <td>Kleenex</td>\n",
       "      <td>88</td>\n",
       "    </tr>\n",
       "    <tr>\n",
       "      <th>2</th>\n",
       "      <td>KNORR</td>\n",
       "      <td>KNORR</td>\n",
       "      <td>79</td>\n",
       "    </tr>\n",
       "    <tr>\n",
       "      <th>3</th>\n",
       "      <td>DORITOS</td>\n",
       "      <td>Doritos</td>\n",
       "      <td>77</td>\n",
       "    </tr>\n",
       "    <tr>\n",
       "      <th>4</th>\n",
       "      <td>KRAFT</td>\n",
       "      <td>Kraft</td>\n",
       "      <td>60</td>\n",
       "    </tr>\n",
       "  </tbody>\n",
       "</table>\n",
       "</div>"
      ],
      "text/plain": [
       "  brandCode brandName  receiptCount\n",
       "0     PEPSI     Pepsi            93\n",
       "1   KLEENEX   Kleenex            88\n",
       "2     KNORR     KNORR            79\n",
       "3   DORITOS   Doritos            77\n",
       "4     KRAFT     Kraft            60"
      ]
     },
     "execution_count": 7,
     "metadata": {},
     "output_type": "execute_result"
    }
   ],
   "source": [
    "# How does the ranking of the top 5 brands by receipts scanned for the recent month compare to the ranking for the previous month?\n",
    "top_brands_by_month(2)"
   ]
  },
  {
   "cell_type": "code",
   "execution_count": 9,
   "id": "95a690e1",
   "metadata": {},
   "outputs": [
    {
     "data": {
      "text/html": [
       "<div>\n",
       "<style scoped>\n",
       "    .dataframe tbody tr th:only-of-type {\n",
       "        vertical-align: middle;\n",
       "    }\n",
       "\n",
       "    .dataframe tbody tr th {\n",
       "        vertical-align: top;\n",
       "    }\n",
       "\n",
       "    .dataframe thead th {\n",
       "        text-align: right;\n",
       "    }\n",
       "</style>\n",
       "<table border=\"1\" class=\"dataframe\">\n",
       "  <thead>\n",
       "    <tr style=\"text-align: right;\">\n",
       "      <th></th>\n",
       "      <th>rewardsReceiptStatus</th>\n",
       "      <th>receiptCount</th>\n",
       "      <th>totalItemCount</th>\n",
       "      <th>averageSpent</th>\n",
       "    </tr>\n",
       "  </thead>\n",
       "  <tbody>\n",
       "    <tr>\n",
       "      <th>0</th>\n",
       "      <td>REJECTED</td>\n",
       "      <td>71</td>\n",
       "      <td>164.0</td>\n",
       "      <td>23.326056</td>\n",
       "    </tr>\n",
       "    <tr>\n",
       "      <th>1</th>\n",
       "      <td>SUBMITTED</td>\n",
       "      <td>434</td>\n",
       "      <td>NaN</td>\n",
       "      <td>NaN</td>\n",
       "    </tr>\n",
       "    <tr>\n",
       "      <th>2</th>\n",
       "      <td>FLAGGED</td>\n",
       "      <td>46</td>\n",
       "      <td>810.0</td>\n",
       "      <td>180.451739</td>\n",
       "    </tr>\n",
       "    <tr>\n",
       "      <th>3</th>\n",
       "      <td>FINISHED</td>\n",
       "      <td>518</td>\n",
       "      <td>5918.0</td>\n",
       "      <td>80.854305</td>\n",
       "    </tr>\n",
       "    <tr>\n",
       "      <th>4</th>\n",
       "      <td>PENDING</td>\n",
       "      <td>50</td>\n",
       "      <td>49.0</td>\n",
       "      <td>28.032449</td>\n",
       "    </tr>\n",
       "  </tbody>\n",
       "</table>\n",
       "</div>"
      ],
      "text/plain": [
       "  rewardsReceiptStatus  receiptCount  totalItemCount  averageSpent\n",
       "0             REJECTED            71           164.0     23.326056\n",
       "1            SUBMITTED           434             NaN           NaN\n",
       "2              FLAGGED            46           810.0    180.451739\n",
       "3             FINISHED           518          5918.0     80.854305\n",
       "4              PENDING            50            49.0     28.032449"
      ]
     },
     "execution_count": 9,
     "metadata": {},
     "output_type": "execute_result"
    }
   ],
   "source": [
    "# When considering average spend from receipts with 'rewardsReceiptStatus’ of ‘Accepted’ or ‘Rejected’, which is greater?\n",
    "# When considering total number of items purchased from receipts with 'rewardsReceiptStatus’ of ‘Accepted’ or ‘Rejected’, which is greater?\n",
    "sql_query = f\"\"\"\n",
    "WITH item_counts AS (\n",
    "  SELECT\n",
    "    receiptId,\n",
    "    COUNT(DISTINCT receiptItemId) AS itemCount\n",
    "  FROM\n",
    "    '{fact_receipt_items}'\n",
    "  GROUP BY\n",
    "    receiptId\n",
    ")\n",
    "SELECT\n",
    "  rewardsReceiptStatus,\n",
    "  COUNT(DISTINCT r.receiptId) AS receiptCount,\n",
    "  SUM(ic.itemCount) AS totalItemCount,\n",
    "  AVG(totalSpent) AS averageSpent\n",
    "FROM\n",
    "  '{fact_receipts}' r\n",
    "  LEFT JOIN\n",
    "    item_counts ic\n",
    "    ON r.receiptId = ic.receiptId\n",
    "GROUP BY\n",
    "  rewardsReceiptStatus\n",
    "\"\"\"\n",
    "duckdb.query(sql_query).df()"
   ]
  },
  {
   "cell_type": "code",
   "execution_count": 10,
   "id": "75cac194",
   "metadata": {},
   "outputs": [],
   "source": [
    "# Questions about new users\n",
    "sql_query = f\"\"\"\n",
    "SELECT\n",
    "  b.brandCode,\n",
    "  b.name AS brandName,\n",
    "  COUNT(*) AS receiptCount,\n",
    "  SUM(totalSpent) AS totalSpent\n",
    "FROM\n",
    "  '{fact_receipt_items}' ri\n",
    "    INNER JOIN\n",
    "      '{fact_receipts}' r\n",
    "      ON ri.receiptId = r.receiptId\n",
    "    INNER JOIN\n",
    "      '{dim_brands}' b\n",
    "      ON ri.brandCode = b.brandCode\n",
    "    INNER JOIN\n",
    "      '{dim_users}' u\n",
    "      ON r.userId = u.userId\n",
    "WHERE\n",
    "  u.createdDateTime >= DATE '{ASAT_DT}' - INTERVAL '6 MONTH'\n",
    "GROUP BY\n",
    "  b.brandCode,\n",
    "  b.name\n",
    "ORDER BY\n",
    "  COUNT(*) DESC\n",
    "\"\"\"\n",
    "new_user_brands = duckdb.query(sql_query).df()"
   ]
  },
  {
   "cell_type": "code",
   "execution_count": 11,
   "id": "ebfe349b",
   "metadata": {},
   "outputs": [
    {
     "data": {
      "text/html": [
       "<div>\n",
       "<style scoped>\n",
       "    .dataframe tbody tr th:only-of-type {\n",
       "        vertical-align: middle;\n",
       "    }\n",
       "\n",
       "    .dataframe tbody tr th {\n",
       "        vertical-align: top;\n",
       "    }\n",
       "\n",
       "    .dataframe thead th {\n",
       "        text-align: right;\n",
       "    }\n",
       "</style>\n",
       "<table border=\"1\" class=\"dataframe\">\n",
       "  <thead>\n",
       "    <tr style=\"text-align: right;\">\n",
       "      <th></th>\n",
       "      <th>brandCode</th>\n",
       "      <th>brandName</th>\n",
       "      <th>receiptCount</th>\n",
       "      <th>totalSpent</th>\n",
       "    </tr>\n",
       "  </thead>\n",
       "  <tbody>\n",
       "    <tr>\n",
       "      <th>0</th>\n",
       "      <td>PEPSI</td>\n",
       "      <td>Pepsi</td>\n",
       "      <td>118</td>\n",
       "      <td>119703.34</td>\n",
       "    </tr>\n",
       "  </tbody>\n",
       "</table>\n",
       "</div>"
      ],
      "text/plain": [
       "  brandCode brandName  receiptCount  totalSpent\n",
       "0     PEPSI     Pepsi           118   119703.34"
      ]
     },
     "execution_count": 11,
     "metadata": {},
     "output_type": "execute_result"
    }
   ],
   "source": [
    "# Which brand has the most spend among users who were created within the past 6 months?\n",
    "new_user_brands.sort_values(by='totalSpent', ascending=False).head(1)"
   ]
  },
  {
   "cell_type": "code",
   "execution_count": 12,
   "id": "d5194e14",
   "metadata": {},
   "outputs": [
    {
     "data": {
      "text/html": [
       "<div>\n",
       "<style scoped>\n",
       "    .dataframe tbody tr th:only-of-type {\n",
       "        vertical-align: middle;\n",
       "    }\n",
       "\n",
       "    .dataframe tbody tr th {\n",
       "        vertical-align: top;\n",
       "    }\n",
       "\n",
       "    .dataframe thead th {\n",
       "        text-align: right;\n",
       "    }\n",
       "</style>\n",
       "<table border=\"1\" class=\"dataframe\">\n",
       "  <thead>\n",
       "    <tr style=\"text-align: right;\">\n",
       "      <th></th>\n",
       "      <th>brandCode</th>\n",
       "      <th>brandName</th>\n",
       "      <th>receiptCount</th>\n",
       "      <th>totalSpent</th>\n",
       "    </tr>\n",
       "  </thead>\n",
       "  <tbody>\n",
       "    <tr>\n",
       "      <th>0</th>\n",
       "      <td>PEPSI</td>\n",
       "      <td>Pepsi</td>\n",
       "      <td>118</td>\n",
       "      <td>119703.34</td>\n",
       "    </tr>\n",
       "  </tbody>\n",
       "</table>\n",
       "</div>"
      ],
      "text/plain": [
       "  brandCode brandName  receiptCount  totalSpent\n",
       "0     PEPSI     Pepsi           118   119703.34"
      ]
     },
     "execution_count": 12,
     "metadata": {},
     "output_type": "execute_result"
    }
   ],
   "source": [
    "# Which brand has the most transactions among users who were created within the past 6 months?\n",
    "new_user_brands.sort_values(by='receiptCount', ascending=False).head(1)"
   ]
  },
  {
   "cell_type": "code",
   "execution_count": null,
   "id": "76d4e578",
   "metadata": {},
   "outputs": [],
   "source": []
  }
 ],
 "metadata": {
  "kernelspec": {
   "display_name": "Python 3",
   "language": "python",
   "name": "python3"
  },
  "language_info": {
   "codemirror_mode": {
    "name": "ipython",
    "version": 3
   },
   "file_extension": ".py",
   "mimetype": "text/x-python",
   "name": "python",
   "nbconvert_exporter": "python",
   "pygments_lexer": "ipython3",
   "version": "3.11.1"
  }
 },
 "nbformat": 4,
 "nbformat_minor": 5
}
