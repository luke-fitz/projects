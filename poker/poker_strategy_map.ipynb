{
 "cells": [
  {
   "cell_type": "markdown",
   "metadata": {},
   "source": [
    "# Poker strategy analysis"
   ]
  },
  {
   "cell_type": "markdown",
   "metadata": {},
   "source": [
    "## Setup"
   ]
  },
  {
   "cell_type": "code",
   "execution_count": null,
   "metadata": {},
   "outputs": [],
   "source": [
    "import numpy as np\n",
    "import pandas as pd\n",
    "pd.set_option('mode.chained_assignment',None)\n",
    "import plotly.express as px\n",
    "import plotly.graph_objects as go"
   ]
  },
  {
   "cell_type": "code",
   "execution_count": null,
   "metadata": {},
   "outputs": [],
   "source": [
    "def set_stage_id(stage):\n",
    "    if stage == 'Pre-Flop':\n",
    "        return 1\n",
    "    elif stage == 'Flop':\n",
    "        return 2\n",
    "    elif stage == 'Turn':\n",
    "        return 3\n",
    "    elif stage == 'River':\n",
    "        return 4\n",
    "\n",
    "def set_stage(stage_id):\n",
    "    if stage_id == 1:\n",
    "        return 'Pre-Flop'\n",
    "    elif stage_id == 2:\n",
    "        return 'Flop'\n",
    "    elif stage_id == 3:\n",
    "        return 'Turn'\n",
    "    elif stage_id == 4:\n",
    "        return 'River'"
   ]
  },
  {
   "cell_type": "markdown",
   "metadata": {},
   "source": [
    "## Load data"
   ]
  },
  {
   "cell_type": "code",
   "execution_count": null,
   "metadata": {},
   "outputs": [],
   "source": [
    "loggerFile = \"C:\\\\Users\\\\user\\\\Documents\\\\Personal\\\\Analysis\\\\Poker\\\\poker_logger_20210107.xlsm\"\n",
    "game_id_list = None# [11, 12]"
   ]
  },
  {
   "cell_type": "code",
   "execution_count": null,
   "metadata": {},
   "outputs": [],
   "source": [
    "# Read files\n",
    "betting = pd.read_excel(loggerFile, sheet_name=\"betting\")\n",
    "results = pd.read_excel(loggerFile, sheet_name=\"results\")\n",
    "\n",
    "# Restrict to games in question\n",
    "if game_id_list is not None:\n",
    "    betting = betting.loc[betting['game_id'].isin(game_id_list)]\n",
    "    results = results.loc[results['game_id'].isin(game_id_list)]\n",
    "\n",
    "# Clean betting dataframe\n",
    "betting['stage_id'] = betting['stage'].apply(set_stage_id)\n",
    "\n",
    "# Calculate bet and pot amounts\n",
    "bet_amounts = betting.groupby(['game_id', 'hand_id', 'player'])[['bet_amount']].sum()\n",
    "pot_amounts = bet_amounts.groupby(['game_id', 'hand_id'])[['bet_amount']].sum()\n",
    "pot_amounts = pot_amounts.rename(columns={'bet_amount': 'pot_amount'})\n",
    "\n",
    "# Clean results dataframe\n",
    "results['stage_id'] = results['stage'].apply(set_stage_id)\n",
    "results['won_hand'] = np.where(results['outcome'].str.startswith('won'), 1, \n",
    "                               np.where(results['outcome'].str.startswith('split'), 0.5, 0))\n",
    "results = pd.merge(results, bet_amounts, on=['game_id', 'hand_id', 'player'], how='left')\n",
    "results = pd.merge(results, pot_amounts, on=['game_id', 'hand_id'], how='left')\n",
    "results['net_winnings'] = results['won_hand'] * results['pot_amount']- results['bet_amount']\n",
    "\n",
    "# Create hand summary dataframe\n",
    "hands = results.loc[results['outcome'].str.startswith('won')]\n",
    "hands = hands.rename(columns={'stage': 'win_stage', \n",
    "                              'stage_id': 'win_stage_id',\n",
    "                              'player': 'winner', \n",
    "                              'hand': 'winner_hand',\n",
    "                              'cards': 'winner_cards',\n",
    "                              'player_position': 'winner_position'}).drop(columns=['won_hand'])\n",
    "\n",
    "# Attach on the stage where each player folded, won or lost\n",
    "stage_folded = betting.loc[betting['action'] == 'fold']\n",
    "stage_folded = stage_folded.groupby(['game_id', 'hand_id', 'player'])[['stage_id']].min().reset_index()\n",
    "stage_reached = pd.merge(stage_folded, results[['game_id', 'hand_id', 'player', 'stage_id']], \n",
    "                         on=['game_id', 'hand_id', 'player'], how='outer')\n",
    "stage_reached['stage_id'] = np.minimum(stage_reached['stage_id_x'].fillna(99), stage_reached['stage_id_y'].fillna(99)).astype(int)\n",
    "stage_reached = stage_reached[['game_id', 'hand_id', 'player', 'stage_id']].rename(columns={'stage_id': 'last_stage_id'})\n",
    "results = pd.merge(results, stage_reached, on=['game_id', 'hand_id', 'player'])\n",
    "results['saw_flop'] = np.where(results['last_stage_id'] > 1, 1, 0)\n",
    "results = results.drop(columns=['stage', 'stage_id'])\n",
    "\n",
    "#print('hands')\n",
    "#display(hands.head())\n",
    "#print('results')\n",
    "#display(results.head())\n",
    "#print('betting')\n",
    "#display(betting.head())"
   ]
  },
  {
   "cell_type": "markdown",
   "metadata": {},
   "source": [
    "## Pre-flop"
   ]
  },
  {
   "cell_type": "code",
   "execution_count": null,
   "metadata": {},
   "outputs": [],
   "source": [
    "# Create aliases of the players with enough data to analyze\n",
    "min_games = 5\n",
    "pl = results.groupby(['game_id', 'player']).size().reset_index().groupby('player').size()\n",
    "pl = pl[pl >= min_games]\n",
    "players_list = pl.index\n",
    "\n",
    "players_dict ={}\n",
    "i = 64\n",
    "for player in players_list:\n",
    "    i += 1\n",
    "    players_dict[player] = chr(i)\n"
   ]
  },
  {
   "cell_type": "code",
   "execution_count": null,
   "metadata": {},
   "outputs": [],
   "source": [
    "def format_for_plot(df, players_dict):\n",
    "    \"\"\"Formats dataframe for scatter plot\\\n",
    "    \"\"\"\n",
    "    # Dictionaries for plots\n",
    "    markercolor = {'A': 'blue', 'B': 'gray', 'C': 'red', 'D': 'green', 'E': 'purple', 'F': 'orange'}\n",
    "    markerstyle = {'A': 'circle', 'B': 'square', 'C': 'diamond', 'D': 'cross', 'E': 'x', 'F': 'triangle-up'}\n",
    "    \n",
    "    df = df.loc[df['player'].isin(list(players_dict.keys()))]\n",
    "    df['player_alias'] = df['player'].apply(lambda x: players_dict[x])\n",
    "    df['marker_color'] = df['player_alias'].apply(lambda x: markercolor[x])\n",
    "    df['marker_style'] = df['player_alias'].apply(lambda x: markerstyle[x])\n",
    "    \n",
    "    return df\n",
    "\n",
    "def pre_flop_summary(betting, results, level, players_dict):\n",
    "    \"\"\"Creates summary of PFR and VPIP grouped at the desired level\n",
    "    \"\"\"\n",
    "\n",
    "    # VPIP\n",
    "    vpip = pd.pivot_table(results.loc[results['player_position'] >= 3],\n",
    "                   index=level,\n",
    "                   values=['saw_flop'],\n",
    "                   aggfunc=['mean'])\n",
    "\n",
    "    # PFR\n",
    "    pre_flop = betting.loc[(betting['stage'] == 'Pre-Flop')]\n",
    "    pre_flop['raise_ind'] = np.where(pre_flop['action'].isin(['raise']), 1, 0)\n",
    "    agg = pre_flop.groupby(level + ['hand_id'])['raise_ind'].max().to_frame()\n",
    "    agg = pd.merge(agg.reset_index(), results[level + ['hand_id', 'saw_flop']], on=level + ['hand_id'])\n",
    "    agg = pd.pivot_table(agg, index=level, values=['saw_flop', 'raise_ind'], aggfunc=['sum'])\n",
    "    agg['pfr'] = agg.loc[:, ('sum', 'raise_ind')] / agg.loc[:, ('sum', 'saw_flop')]\n",
    "\n",
    "    # Join them together\n",
    "    pre_flop_summ = pd.merge(vpip[['mean']], agg[['pfr']], on=level).reset_index()\n",
    "    pre_flop_summ.columns = level + ['vpip', 'pfr']\n",
    "\n",
    "    # Create fields for plot\n",
    "    pre_flop_summ = format_for_plot(pre_flop_summ, players_dict)\n",
    "\n",
    "    return pre_flop_summ\n",
    "\n",
    "def post_flop_summary(betting, results, level, players_dict):\n",
    "    \"\"\"Creates summary of PFR and VPIP grouped at the desired level\n",
    "    \"\"\"\n",
    "    \n",
    "    # Stage summary\n",
    "    stage_summary = pd.pivot_table(results, index=['game_id', 'player'], columns='last_stage_id', values='hand_id', aggfunc='count')\n",
    "\n",
    "    # Summary of game/players being in play\n",
    "    in_play = stage_summary.sort_index(axis=1, ascending=False).cumsum(axis=1).sort_index(axis=1)\n",
    "    in_play = pd.melt(in_play.reset_index(), id_vars=['game_id', 'player'])\n",
    "    in_play = in_play.rename(columns={'last_stage_id': 'stage_id', 'value': 'num_hands'})\n",
    "\n",
    "    # Aggression calcs\n",
    "    agg = betting.loc[(betting['stage_id'] >= 2) & (betting['action'].isin(['bet', 'raise']))]\n",
    "    agg = agg.groupby(['game_id', 'player', 'stage_id'])[['hand_id']].count()\n",
    "    agg = agg.rename(columns={'hand_id': 'num_aggs'})\n",
    "    agg = pd.merge(in_play, agg, on=['game_id', 'player', 'stage_id'])\n",
    "    agg = agg.groupby(level)[['num_hands', 'num_aggs']].sum()\n",
    "    agg['agg_pc'] = agg['num_aggs'] / agg['num_hands']\n",
    "\n",
    "    # Win percentages\n",
    "    win_pc = results.loc[results['last_stage_id'] >= 2].groupby(level)[['won_hand']].mean()\n",
    "\n",
    "    # Merge them together\n",
    "    post_flop_summ = pd.merge(agg, win_pc, on=level).reset_index()\n",
    "    \n",
    "    # Create fields for plot\n",
    "    post_flop_summ = format_for_plot(post_flop_summ, players_dict)\n",
    "    \n",
    "    return post_flop_summ\n"
   ]
  },
  {
   "cell_type": "code",
   "execution_count": null,
   "metadata": {},
   "outputs": [],
   "source": [
    "player_game_pre = pre_flop_summary(betting, results, ['game_id', 'player'], players_dict)\n",
    "player_pre = pre_flop_summary(betting, results, ['player'], players_dict)\n",
    "\n",
    "player_game_post = post_flop_summary(betting, results, ['game_id', 'player'], players_dict)\n",
    "player_post = post_flop_summary(betting, results, ['player'], players_dict)"
   ]
  },
  {
   "cell_type": "code",
   "execution_count": null,
   "metadata": {},
   "outputs": [],
   "source": [
    "player_game_pre['label'] = 'Player ' + player_game_pre['player_alias'] + ', Game ' + player_game_pre['game_id'].astype(str)\n",
    "    \n",
    "fig = go.Figure()\n",
    "fig.add_trace(go.Scatter(\n",
    "    x=player_game_pre['vpip'],\n",
    "    y=player_game_pre['pfr'],\n",
    "    mode=\"markers+text\",\n",
    "    text=player_game_pre['player_alias'],\n",
    "    hovertemplate=player_game_pre['label'],\n",
    "    marker_color=player_game_pre['marker_color'],\n",
    "    marker_symbol=player_game_pre['marker_style'],\n",
    "    textposition=\"top center\"\n",
    "))\n",
    "\n",
    "fig.update_layout(\n",
    "    title=\"Pre-Flop Strategy by Player and Game\",\n",
    "    xaxis_title=\"Voluntarily Put $ in Pot % (VPIP)\",\n",
    "    yaxis_title=\"Pre-Flop Raise % (PFR)\",\n",
    "    xaxis_tickformat = '%',\n",
    "    yaxis_tickformat = '%'\n",
    ")\n",
    "fig.show()"
   ]
  },
  {
   "cell_type": "code",
   "execution_count": null,
   "metadata": {},
   "outputs": [],
   "source": [
    "fig.write_html('poker_pre_flop_scatter.html')"
   ]
  },
  {
   "cell_type": "markdown",
   "metadata": {},
   "source": [
    "## Post-flop"
   ]
  },
  {
   "cell_type": "code",
   "execution_count": null,
   "metadata": {},
   "outputs": [],
   "source": [
    "player_game_post['label'] = 'Player ' + player_game_post['player_alias'] + ', Game ' + player_game_post['game_id'].astype(str)\n",
    "    \n",
    "fig = go.Figure()\n",
    "fig.add_trace(go.Scatter(\n",
    "    x=player_game_post['agg_pc'],\n",
    "    y=player_game_post['won_hand'],\n",
    "    mode=\"markers+text\",\n",
    "    text=player_game_post['player_alias'],\n",
    "    hovertemplate=player_game_post['label'],\n",
    "    marker_color=player_game_post['marker_color'],\n",
    "    marker_symbol=player_game_post['marker_style'],\n",
    "    textposition=\"top center\"\n",
    "))\n",
    "\n",
    "fig.update_layout(\n",
    "    title=\"Post-Flop Strategy by Player and Game\",\n",
    "    xaxis_title=\"Post-flop Aggression Frequency % (Agg)\",\n",
    "    yaxis_title=\"Hands Won %\",\n",
    "    xaxis_tickformat = '%',\n",
    "    yaxis_tickformat = '%'\n",
    ")\n",
    "fig.show()"
   ]
  },
  {
   "cell_type": "code",
   "execution_count": null,
   "metadata": {},
   "outputs": [],
   "source": [
    "fig.write_html('poker_post_flop_scatter.html')"
   ]
  },
  {
   "cell_type": "markdown",
   "metadata": {},
   "source": [
    "## Summary statistics"
   ]
  },
  {
   "cell_type": "code",
   "execution_count": null,
   "metadata": {},
   "outputs": [],
   "source": [
    "player_metrics = pd.concat([player_pre[['player', 'player_alias', 'pfr', 'vpip']], player_post[['player_alias', 'agg_pc', 'won_hand']]], axis=1)"
   ]
  },
  {
   "cell_type": "code",
   "execution_count": null,
   "metadata": {},
   "outputs": [],
   "source": [
    "results_in_scope = results.loc[results['game_id'].isin([ 1,  4,  6,  7,  8,  9, 10, 11, 12, 13, 14, 15])]\n",
    "game_player_results = results_in_scope.groupby(['player'])[['net_winnings']].sum().reset_index()"
   ]
  },
  {
   "cell_type": "code",
   "execution_count": null,
   "metadata": {},
   "outputs": [],
   "source": [
    "player_metrics.merge(game_player_results, on='player', how='left')"
   ]
  },
  {
   "cell_type": "code",
   "execution_count": null,
   "metadata": {},
   "outputs": [],
   "source": []
  }
 ],
 "metadata": {
  "kernelspec": {
   "display_name": "Python 3",
   "language": "python",
   "name": "python3"
  },
  "language_info": {
   "codemirror_mode": {
    "name": "ipython",
    "version": 3
   },
   "file_extension": ".py",
   "mimetype": "text/x-python",
   "name": "python",
   "nbconvert_exporter": "python",
   "pygments_lexer": "ipython3",
   "version": "3.7.4"
  }
 },
 "nbformat": 4,
 "nbformat_minor": 2
}
